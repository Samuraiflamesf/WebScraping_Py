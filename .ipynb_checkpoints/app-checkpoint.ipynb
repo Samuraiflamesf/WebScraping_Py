{
 "cells": [
  {
   "cell_type": "code",
   "execution_count": 38,
   "id": "9a4d1593",
   "metadata": {
    "scrolled": true
   },
   "outputs": [],
   "source": [
    "import pandas as pd"
   ]
  },
  {
   "cell_type": "code",
   "execution_count": 39,
   "id": "2013a37c",
   "metadata": {},
   "outputs": [],
   "source": [
    "# Extraindo a lista\n",
    "alfaNumerico_A_pd = pd.concat(pd.read_excel('plan/ALFANUMÉRICO CIMEB.xlsx', header=3, usecols=['','','CID-10'], sheet_name=None))"
   ]
  },
  {
   "cell_type": "code",
   "execution_count": 40,
   "id": "4dfab885",
   "metadata": {},
   "outputs": [
    {
     "name": "stdout",
     "output_type": "stream",
     "text": [
      "<Worksheet \"FOLHA DE ROSTO\">\n"
     ]
    }
   ],
   "source": [
    "print(ws)"
   ]
  },
  {
   "cell_type": "code",
   "execution_count": 46,
   "id": "cc31579a",
   "metadata": {},
   "outputs": [],
   "source": [
    "# Alterar a ordem das colunas\n",
    "#['CNS','NOME DO PACIENTE','DATA DE NASCIMENTO','PESO (kg)\\n ATUALIZADO (sem decimais)','CID-10','FASE DE TRATAMENTO','QUANTITATIVO MENSAL','QUANTIDADE TRIMESTRAL','STATUS','DATA','Paciente CIMEB?','CPF','TELEFONE','RESPONSÁVEL PELO CADASTRO','OBSERVAÇÕES']]"
   ]
  },
  {
   "cell_type": "code",
   "execution_count": null,
   "id": "cc4dc88b",
   "metadata": {},
   "outputs": [],
   "source": []
  },
  {
   "cell_type": "code",
   "execution_count": null,
   "id": "b20c6453",
   "metadata": {},
   "outputs": [],
   "source": []
  },
  {
   "cell_type": "code",
   "execution_count": null,
   "id": "1886646e",
   "metadata": {},
   "outputs": [],
   "source": []
  },
  {
   "cell_type": "code",
   "execution_count": 47,
   "id": "4bf47feb",
   "metadata": {},
   "outputs": [],
   "source": []
  },
  {
   "cell_type": "code",
   "execution_count": null,
   "id": "702a457d",
   "metadata": {},
   "outputs": [],
   "source": []
  },
  {
   "cell_type": "code",
   "execution_count": 20,
   "id": "73314b02",
   "metadata": {},
   "outputs": [
    {
     "ename": "AttributeError",
     "evalue": "'dict' object has no attribute 'to_excel'",
     "output_type": "error",
     "traceback": [
      "\u001b[1;31m---------------------------------------------------------------------------\u001b[0m",
      "\u001b[1;31mAttributeError\u001b[0m                            Traceback (most recent call last)",
      "\u001b[1;32m~\\AppData\\Local\\Temp/ipykernel_7060/4062339381.py\u001b[0m in \u001b[0;36m<module>\u001b[1;34m\u001b[0m\n\u001b[0;32m      1\u001b[0m \u001b[1;31m#Salavando\u001b[0m\u001b[1;33m\u001b[0m\u001b[1;33m\u001b[0m\u001b[0m\n\u001b[1;32m----> 2\u001b[1;33m \u001b[0mbiologico_pd\u001b[0m\u001b[1;33m.\u001b[0m\u001b[0mto_excel\u001b[0m\u001b[1;33m(\u001b[0m\u001b[1;34m\"./finished/bio1.xlsx\"\u001b[0m\u001b[1;33m,\u001b[0m \u001b[0mindex\u001b[0m\u001b[1;33m=\u001b[0m\u001b[1;32mFalse\u001b[0m\u001b[1;33m)\u001b[0m\u001b[1;33m\u001b[0m\u001b[1;33m\u001b[0m\u001b[0m\n\u001b[0m",
      "\u001b[1;31mAttributeError\u001b[0m: 'dict' object has no attribute 'to_excel'"
     ]
    }
   ],
   "source": [
    "#Salavando"
   ]
  },
  {
   "cell_type": "code",
   "execution_count": null,
   "id": "7b48a1b0",
   "metadata": {},
   "outputs": [],
   "source": []
  }
 ],
 "metadata": {
  "kernelspec": {
   "display_name": "Python 3 (ipykernel)",
   "language": "python",
   "name": "python3"
  },
  "language_info": {
   "codemirror_mode": {
    "name": "ipython",
    "version": 3
   },
   "file_extension": ".py",
   "mimetype": "text/x-python",
   "name": "python",
   "nbconvert_exporter": "python",
   "pygments_lexer": "ipython3",
   "version": "3.9.7"
  }
 },
 "nbformat": 4,
 "nbformat_minor": 5
}
